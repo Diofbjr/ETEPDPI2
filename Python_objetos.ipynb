{
  "nbformat": 4,
  "nbformat_minor": 0,
  "metadata": {
    "colab": {
      "name": "Python objetos.ipynb",
      "provenance": [],
      "collapsed_sections": [],
      "authorship_tag": "ABX9TyOTV4HGqM9Iyy199RZ1MtbZ",
      "include_colab_link": true
    },
    "kernelspec": {
      "name": "python3",
      "display_name": "Python 3"
    },
    "language_info": {
      "name": "python"
    }
  },
  "cells": [
    {
      "cell_type": "markdown",
      "metadata": {
        "id": "view-in-github",
        "colab_type": "text"
      },
      "source": [
        "<a href=\"https://colab.research.google.com/github/clovesrocha/ETEPDPI2/blob/main/Python_objetos.ipynb\" target=\"_parent\"><img src=\"https://colab.research.google.com/assets/colab-badge.svg\" alt=\"Open In Colab\"/></a>"
      ]
    },
    {
      "cell_type": "code",
      "execution_count": 38,
      "metadata": {
        "colab": {
          "base_uri": "https://localhost:8080/"
        },
        "id": "tjeLvQ0zArzx",
        "outputId": "b09a9355-6c21-4472-9570-e6b1aae539b5"
      },
      "outputs": [
        {
          "output_type": "stream",
          "name": "stdout",
          "text": [
            "João\n",
            "27\n",
            "Masculino\n",
            "\n",
            "Maria\n",
            "7456\n",
            "Desenvolvimento de Sistemas\n",
            "\n",
            "Cloves\n",
            "133\n",
            "Desenvolvimento de Sistemas\n",
            "\n"
          ]
        }
      ],
      "source": [
        "class Pessoas:\n",
        "    def __init__(self, nome, idade, genero):\n",
        "       self.nome = nome\n",
        "       self.idade = idade\n",
        "       self.genero = genero\n",
        "\n",
        "joao = Pessoas('João', '27', 'Masculino')\n",
        "print (joao.nome + \"\\n\" + joao.idade + \"\\n\" + joao.genero+ \"\\n\")\n",
        "   \n",
        "class Estudantes:\n",
        "    def __init__(self, nome, matricula, curso):\n",
        "       self.nome = nome\n",
        "       self.matricula = matricula\n",
        "       self.curso = curso\n",
        "\n",
        "maria = Estudantes('Maria', \"7456\", 'Desenvolvimento de Sistemas')\n",
        "print (maria.nome + \"\\n\" + maria.matricula + \"\\n\" + maria.curso + \"\\n\")\n",
        "\n",
        "class Professores:\n",
        "    def __init__(self, nome, matricula, curso):\n",
        "       self.nome = nome\n",
        "       self.matricula = matricula\n",
        "       self.curso = curso\n",
        "\n",
        "cloves = Professores('Cloves', \"133\", 'Desenvolvimento de Sistemas')\n",
        "print (cloves.nome + \"\\n\" + cloves.matricula + \"\\n\" + cloves.curso + \"\\n\")"
      ]
    }
  ]
}