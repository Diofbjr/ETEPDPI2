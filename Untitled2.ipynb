{
  "nbformat": 4,
  "nbformat_minor": 0,
  "metadata": {
    "colab": {
      "name": "Untitled2.ipynb",
      "provenance": [],
      "toc_visible": true,
      "authorship_tag": "ABX9TyNvey5hA5RYvlhvgYvt95+Y",
      "include_colab_link": true
    },
    "kernelspec": {
      "name": "python3",
      "display_name": "Python 3"
    },
    "language_info": {
      "name": "python"
    }
  },
  "cells": [
    {
      "cell_type": "markdown",
      "metadata": {
        "id": "view-in-github",
        "colab_type": "text"
      },
      "source": [
        "<a href=\"https://colab.research.google.com/github/clovesrocha/ETEPDPI2/blob/main/Untitled2.ipynb\" target=\"_parent\"><img src=\"https://colab.research.google.com/assets/colab-badge.svg\" alt=\"Open In Colab\"/></a>"
      ]
    },
    {
      "cell_type": "code",
      "execution_count": 66,
      "metadata": {
        "colab": {
          "base_uri": "https://localhost:8080/",
          "height": 227
        },
        "id": "hP9YWuK5AWHJ",
        "outputId": "661df797-3813-487f-a907-df30fc783bc8"
      },
      "outputs": [
        {
          "output_type": "error",
          "ename": "TypeError",
          "evalue": "ignored",
          "traceback": [
            "\u001b[0;31m---------------------------------------------------------------------------\u001b[0m",
            "\u001b[0;31mTypeError\u001b[0m                                 Traceback (most recent call last)",
            "\u001b[0;32m<ipython-input-66-76a860f22cc6>\u001b[0m in \u001b[0;36m<module>\u001b[0;34m()\u001b[0m\n\u001b[1;32m     14\u001b[0m     \u001b[0mself\u001b[0m\u001b[0;34m.\u001b[0m\u001b[0mmatricula\u001b[0m \u001b[0;34m=\u001b[0m \u001b[0mmatricula\u001b[0m\u001b[0;34m\u001b[0m\u001b[0;34m\u001b[0m\u001b[0m\n\u001b[1;32m     15\u001b[0m     \u001b[0mself\u001b[0m\u001b[0;34m.\u001b[0m\u001b[0mcurso\u001b[0m \u001b[0;34m=\u001b[0m \u001b[0mcurso\u001b[0m\u001b[0;34m\u001b[0m\u001b[0;34m\u001b[0m\u001b[0m\n\u001b[0;32m---> 16\u001b[0;31m \u001b[0mmaria\u001b[0m \u001b[0;34m=\u001b[0m \u001b[0mProfessor\u001b[0m\u001b[0;34m(\u001b[0m\u001b[0;34m'Maria'\u001b[0m\u001b[0;34m,\u001b[0m \u001b[0;34m'21'\u001b[0m\u001b[0;34m,\u001b[0m \u001b[0;34m'Fem'\u001b[0m\u001b[0;34m)\u001b[0m\u001b[0;34m\u001b[0m\u001b[0;34m\u001b[0m\u001b[0m\n\u001b[0m\u001b[1;32m     17\u001b[0m \u001b[0mprint\u001b[0m\u001b[0;34m(\u001b[0m \u001b[0mmaria\u001b[0m\u001b[0;34m.\u001b[0m\u001b[0mnome\u001b[0m \u001b[0;34m+\u001b[0m \u001b[0;34m\"\\n\"\u001b[0m \u001b[0;34m+\u001b[0m \u001b[0mmaria\u001b[0m\u001b[0;34m.\u001b[0m\u001b[0mmatricula\u001b[0m \u001b[0;34m+\u001b[0m \u001b[0;34m\"\\n\"\u001b[0m \u001b[0;34m+\u001b[0m \u001b[0mmaria\u001b[0m\u001b[0;34m.\u001b[0m\u001b[0mcurso\u001b[0m\u001b[0;34m)\u001b[0m\u001b[0;34m\u001b[0m\u001b[0;34m\u001b[0m\u001b[0m\n",
            "\u001b[0;31mTypeError\u001b[0m: Professor() takes no arguments"
          ]
        }
      ],
      "source": [
        "class Pessoa:\n",
        "  def __init__(self, nome, idade, genero):\n",
        "    self.nome = nome\n",
        "    self.idade = idade\n",
        "    self.genero = genero \n",
        "class Estudante:\n",
        "  def _init_ (self, nome, matricula, curso):\n",
        "    self.nome = nome\n",
        "    self.matricula = matricula\n",
        "    self.curso = curso\n",
        "class Professor:\n",
        "  def _init_ (self, nome, matricula, curso):\n",
        "    self.nome = nome\n",
        "    self.matricula = matricula\n",
        "    self.curso = curso\n",
        "\n"
      ]
    },
    {
      "cell_type": "code",
      "source": [
        "class Estudante:\n",
        "  def _init_ (self, nome, matricula, curso):\n",
        "    self.nome = nome\n",
        "    self.matricula = matricula\n",
        "    self.curso = curso\n",
        "class Professor:\n",
        "  def _init_ (self, nome, matricula, curso):\n",
        "    self.nome = nome\n",
        "    self.matricula = matricula\n",
        "    self.curso = curso\n"
      ],
      "metadata": {
        "id": "7zV6iM2gGUiA"
      },
      "execution_count": null,
      "outputs": []
    },
    {
      "cell_type": "code",
      "source": [
        "#ETE Porto Digital\n",
        "#Prof. Cloves Rocha\n",
        "class Estudante:\n",
        "  def __init__(self, nome_completo, nome, origem, tipo, nivel_dificuldade):\n",
        "    self.nome_completo = nome_completo\n",
        "    self.nome = nome\n",
        "    self.origem = origem\n",
        "    self.tipo = tipo\n",
        "    self.nivel_dificuldade = nivel_dificuldade\n",
        "maria = Estudante('Maria dos Santos', 'Mari', 'Trabalha', 'Maga', 2)\n",
        "print( maria.nome_completo + \"\\n\" + maria.origem + \"\\n\" + maria.tipo)"
      ],
      "metadata": {
        "colab": {
          "base_uri": "https://localhost:8080/"
        },
        "id": "2CFANBb8F1Kp",
        "outputId": "4415c8c2-49a8-4845-cfba-c173e37792b7"
      },
      "execution_count": 23,
      "outputs": [
        {
          "output_type": "stream",
          "name": "stdout",
          "text": [
            "Maria dos Santos\n",
            "Trabalha\n",
            "Maga\n"
          ]
        }
      ]
    }
  ]
}