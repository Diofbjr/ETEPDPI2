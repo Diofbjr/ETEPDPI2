{
  "nbformat": 4,
  "nbformat_minor": 0,
  "metadata": {
    "colab": {
      "name": "Untitled2.ipynb",
      "provenance": [],
      "toc_visible": true,
      "authorship_tag": "ABX9TyNhrnNZZNko/59gJCy+A0oc",
      "include_colab_link": true
    },
    "kernelspec": {
      "name": "python3",
      "display_name": "Python 3"
    },
    "language_info": {
      "name": "python"
    }
  },
  "cells": [
    {
      "cell_type": "markdown",
      "metadata": {
        "id": "view-in-github",
        "colab_type": "text"
      },
      "source": [
        "<a href=\"https://colab.research.google.com/github/clovesrocha/ETEPDPI2/blob/main/PI2_Classes.ipynb\" target=\"_parent\"><img src=\"https://colab.research.google.com/assets/colab-badge.svg\" alt=\"Open In Colab\"/></a>"
      ]
    },
    {
      "cell_type": "code",
      "execution_count": 3,
      "metadata": {
        "colab": {
          "base_uri": "https://localhost:8080/"
        },
        "id": "hP9YWuK5AWHJ",
        "outputId": "f2d0ab63-5793-4cd9-f5e8-b8d3468a3a00"
      },
      "outputs": [
        {
          "output_type": "stream",
          "name": "stdout",
          "text": [
            "Joao Paulo\n",
            "26\n",
            "Masculino\n",
            "Ana Marcia\n",
            "1232\n",
            "DS\n",
            "Maria dos Santos\n",
            "1112\n",
            "DS\n",
            "Tiago Anderson\n",
            "11158689621\n",
            "Diretor\n",
            "Informática\n"
          ]
        }
      ],
      "source": [
        "class Pessoa:\n",
        "  def __init__(self, nome, idade, genero):\n",
        "    self.nome = nome\n",
        "    self.idade = idade\n",
        "    self.genero = genero \n",
        "\n",
        "joao = Pessoa('Joao Paulo', '26', 'Masculino')\n",
        "print( joao.nome + \"\\n\" + joao.idade + \"\\n\" + joao.genero)\n",
        "\n",
        "class Estudante:\n",
        "  def __init__(self, nome, matricula, curso):\n",
        "    self.nome = nome\n",
        "    self.matricula = matricula\n",
        "    self.curso = curso\n",
        "\n",
        "ana = Estudante('Ana Marcia', '1232', 'DS')\n",
        "print( ana.nome + \"\\n\" + ana.matricula + \"\\n\" + ana.curso)\n",
        "\n",
        "class Professor:\n",
        "  def __init__(self, nome, matricula, curso):\n",
        "    self.nome = nome\n",
        "    self.matricula = matricula\n",
        "    self.curso = curso\n",
        "\n",
        "maria = Professor('Maria dos Santos', '1112', 'DS')\n",
        "print( maria.nome + \"\\n\" + maria.matricula + \"\\n\" + maria.curso)\n",
        "\n",
        "class Voluntario:\n",
        "  def __init__(self, nome, cpf, cargo, setor):\n",
        "    self.nome = nome\n",
        "    self.cpf = cpf\n",
        "    self.cargo = cargo\n",
        "    self.setor = setor\n",
        "\n",
        "tiago = Voluntario('Tiago Anderson', '11158689621', 'Diretor', 'Informática')\n",
        "print( tiago.nome + \"\\n\" + tiago.cpf + \"\\n\" + tiago.cargo + \"\\n\" + tiago.setor)\n",
        "\n",
        "class Servicos:\n",
        "  def __init__ (self, curso, estagio, doacoes, at_extras):\n",
        "    self.curso = curso\n",
        "    self.estagio = estagio\n",
        "    self.doacoes = doacoes\n",
        "    self.at_extras = at_extras\n",
        "\n",
        "\n"
      ]
    }
  ]
}